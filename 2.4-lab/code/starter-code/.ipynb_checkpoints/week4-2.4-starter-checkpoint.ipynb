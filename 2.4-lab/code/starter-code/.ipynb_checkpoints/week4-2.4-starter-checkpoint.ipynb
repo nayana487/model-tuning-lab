{
 "cells": [
  {
   "cell_type": "markdown",
   "metadata": {},
   "source": [
    "In this Lab today, we will run the kNN model to determine the best ‘k’ value in order to determine whether a wine is of high quality. \n",
    "\n",
    "We will use the following features: ‘density’, ‘sulphates’, residual sugar’.\n",
    "\n",
    "Please check 'k' values from 1 to 50 in order to determine the best 'k' value.\n",
    "\n",
    "Below is start code which obtains demo data from Amazon Web Services website:"
   ]
  },
  {
   "cell_type": "code",
   "execution_count": 2,
   "metadata": {
    "collapsed": false
   },
   "outputs": [],
   "source": [
    "import numpy as np\n",
    "import pandas as pd\n",
    "import pylab as pl\n",
    "import matplotlib.pyplot as plt\n",
    "from sklearn.neighbors import KNeighborsClassifier\n",
    "% matplotlib inline\n",
    "df = pd.read_csv(\"https://s3.amazonaws.com/demo-datasets/wine.csv\")\n",
    "\n",
    "test_idx = np.random.uniform(0, 1, len(df)) <= 0.3\n",
    "train = df[test_idx==True]\n",
    "test = df[test_idx==False]\n",
    "\n",
    "features = ['density', 'sulphates', 'residual_sugar']\n"
   ]
  },
  {
   "cell_type": "code",
   "execution_count": 11,
   "metadata": {
    "collapsed": false
   },
   "outputs": [],
   "source": [
    "acc_scores = []\n",
    "for i in range(1,51):\n",
    "    knn = KNeighborsClassifier(i)\n",
    "    knn.fit(train[features],train['high_quality'])\n",
    "    predictions = knn.predict(test[features])\n",
    "    acc = np.where(predictions == test['high_quality'],1,0).sum()/float(len(test))\n",
    "    acc_scores.append([i,acc])"
   ]
  },
  {
   "cell_type": "code",
   "execution_count": 12,
   "metadata": {
    "collapsed": false
   },
   "outputs": [
    {
     "data": {
      "text/plain": [
       "[[1, 0.7644326476443265],\n",
       " [2, 0.8029197080291971],\n",
       " [3, 0.77659809776598099],\n",
       " [4, 0.80756469807564701],\n",
       " [5, 0.78433974784339744],\n",
       " [6, 0.79893828798938293],\n",
       " [7, 0.78809997788099972],\n",
       " [8, 0.80181375801813759],\n",
       " [9, 0.79362972793629727],\n",
       " [10, 0.79960185799601857],\n",
       " [11, 0.79318734793187351],\n",
       " [12, 0.80358327803583274],\n",
       " [13, 0.7969475779694758],\n",
       " [14, 0.80557398805573988],\n",
       " [15, 0.80092899800928996],\n",
       " [16, 0.80468922804689225],\n",
       " [17, 0.8029197080291971],\n",
       " [18, 0.80601636806016363],\n",
       " [19, 0.80712231807122314],\n",
       " [20, 0.80756469807564701],\n",
       " [21, 0.80690112806901126],\n",
       " [22, 0.80690112806901126],\n",
       " [23, 0.80712231807122314],\n",
       " [24, 0.80623755806237563],\n",
       " [25, 0.80623755806237563],\n",
       " [26, 0.80601636806016363],\n",
       " [27, 0.80712231807122314],\n",
       " [28, 0.80800707808007077],\n",
       " [29, 0.80778588807785889],\n",
       " [30, 0.80778588807785889],\n",
       " [31, 0.80800707808007077],\n",
       " [32, 0.80800707808007077],\n",
       " [33, 0.80778588807785889],\n",
       " [34, 0.80800707808007077],\n",
       " [35, 0.80778588807785889],\n",
       " [36, 0.80778588807785889],\n",
       " [37, 0.80778588807785889],\n",
       " [38, 0.80800707808007077],\n",
       " [39, 0.80800707808007077],\n",
       " [40, 0.80800707808007077],\n",
       " [41, 0.80800707808007077],\n",
       " [42, 0.80800707808007077],\n",
       " [43, 0.80800707808007077],\n",
       " [44, 0.80800707808007077],\n",
       " [45, 0.80800707808007077],\n",
       " [46, 0.80800707808007077],\n",
       " [47, 0.80800707808007077],\n",
       " [48, 0.80800707808007077],\n",
       " [49, 0.80800707808007077],\n",
       " [50, 0.80800707808007077]]"
      ]
     },
     "execution_count": 12,
     "metadata": {},
     "output_type": "execute_result"
    }
   ],
   "source": [
    "acc_scores"
   ]
  },
  {
   "cell_type": "code",
   "execution_count": null,
   "metadata": {
    "collapsed": true
   },
   "outputs": [],
   "source": []
  }
 ],
 "metadata": {
  "kernelspec": {
   "display_name": "Python 2",
   "language": "python",
   "name": "python2"
  },
  "language_info": {
   "codemirror_mode": {
    "name": "ipython",
    "version": 2
   },
   "file_extension": ".py",
   "mimetype": "text/x-python",
   "name": "python",
   "nbconvert_exporter": "python",
   "pygments_lexer": "ipython2",
   "version": "2.7.11"
  }
 },
 "nbformat": 4,
 "nbformat_minor": 0
}
