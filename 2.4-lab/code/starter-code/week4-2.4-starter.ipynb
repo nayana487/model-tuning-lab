{
 "cells": [
  {
   "cell_type": "markdown",
   "metadata": {},
   "source": [
    "In this Lab today, we will run the kNN model to determine the best ‘k’ value in order to determine whether a wine is of high quality. \n",
    "\n",
    "We will use the following features: ‘density’, ‘sulphates’, residual sugar’.\n",
    "\n",
    "Please check 'k' values from 1 to 50 in order to determine the best 'k' value.\n",
    "\n",
    "Below is start code which obtains demo data from Amazon Web Services website:"
   ]
  },
  {
   "cell_type": "code",
   "execution_count": 1,
   "metadata": {
    "collapsed": false
   },
   "outputs": [],
   "source": [
    "import numpy as np\n",
    "import pandas as pd\n",
    "import matplotlib.pyplot as plt\n",
    "from sklearn.neighbors import KNeighborsClassifier\n",
    "\n",
    "%matplotlib inline\n",
    "\n",
    "df = pd.read_csv(\"https://s3.amazonaws.com/demo-datasets/wine.csv\")\n",
    "\n",
    "test_idx = np.random.uniform(0, 1, len(df)) <= 0.3\n",
    "train = df[test_idx==True]\n",
    "test = df[test_idx==False]\n",
    "\n",
    "features = ['density', 'sulphates', 'residual_sugar']"
   ]
  },
  {
   "cell_type": "code",
   "execution_count": 2,
   "metadata": {
    "collapsed": false
   },
   "outputs": [
    {
     "name": "stdout",
     "output_type": "stream",
     "text": [
      "    fixed_acidity  volatile_acidity  citric_acid  residual_sugar  chlorides  \\\n",
      "11            7.5              0.50         0.36             6.1      0.071   \n",
      "13            7.8              0.61         0.29             1.6      0.114   \n",
      "\n",
      "    free_sulfur_dioxide  total_sulfur_dioxide  density    pH  sulphates  \\\n",
      "11                 17.0                 102.0   0.9978  3.35       0.80   \n",
      "13                  9.0                  29.0   0.9974  3.26       1.56   \n",
      "\n",
      "    alcohol  quality color  is_red  high_quality  \n",
      "11     10.5        5   red     1.0           0.0  \n",
      "13      9.1        5   red     1.0           0.0  \n",
      "   fixed_acidity  volatile_acidity  citric_acid  residual_sugar  chlorides  \\\n",
      "0            7.4              0.70          0.0             1.9      0.076   \n",
      "1            7.8              0.88          0.0             2.6      0.098   \n",
      "\n",
      "   free_sulfur_dioxide  total_sulfur_dioxide  density    pH  sulphates  \\\n",
      "0                 11.0                  34.0   0.9978  3.51       0.56   \n",
      "1                 25.0                  67.0   0.9968  3.20       0.68   \n",
      "\n",
      "   alcohol  quality color  is_red  high_quality  \n",
      "0      9.4        5   red     1.0           0.0  \n",
      "1      9.8        5   red     1.0           0.0  \n"
     ]
    }
   ],
   "source": [
    "print train.head(2)\n",
    "print test.head(2)"
   ]
  },
  {
   "cell_type": "code",
   "execution_count": 3,
   "metadata": {
    "collapsed": false
   },
   "outputs": [
    {
     "name": "stdout",
     "output_type": "stream",
     "text": [
      "Neighbors: 1, Accuracy: 0.754750\n",
      "Neighbors: 2, Accuracy: 0.796244\n",
      "Neighbors: 3, Accuracy: 0.762830\n",
      "Neighbors: 4, Accuracy: 0.787727\n",
      "Neighbors: 5, Accuracy: 0.776807\n",
      "Neighbors: 6, Accuracy: 0.793405\n",
      "Neighbors: 7, Accuracy: 0.786416\n",
      "Neighbors: 8, Accuracy: 0.797554\n",
      "Neighbors: 9, Accuracy: 0.791002\n",
      "Neighbors: 10, Accuracy: 0.799301\n",
      "Neighbors: 11, Accuracy: 0.795152\n",
      "Neighbors: 12, Accuracy: 0.797772\n",
      "Neighbors: 13, Accuracy: 0.798209\n",
      "Neighbors: 14, Accuracy: 0.801922\n",
      "Neighbors: 15, Accuracy: 0.799738\n",
      "Neighbors: 16, Accuracy: 0.800611\n",
      "Neighbors: 17, Accuracy: 0.799520\n",
      "Neighbors: 18, Accuracy: 0.800830\n",
      "Neighbors: 19, Accuracy: 0.799956\n",
      "Neighbors: 20, Accuracy: 0.802140\n",
      "Neighbors: 21, Accuracy: 0.800611\n",
      "Neighbors: 22, Accuracy: 0.802795\n",
      "Neighbors: 23, Accuracy: 0.801267\n",
      "Neighbors: 24, Accuracy: 0.802140\n",
      "Neighbors: 25, Accuracy: 0.802359\n",
      "Neighbors: 26, Accuracy: 0.802577\n",
      "Neighbors: 27, Accuracy: 0.802577\n",
      "Neighbors: 28, Accuracy: 0.802577\n",
      "Neighbors: 29, Accuracy: 0.801703\n",
      "Neighbors: 30, Accuracy: 0.802577\n",
      "Neighbors: 31, Accuracy: 0.802359\n",
      "Neighbors: 32, Accuracy: 0.802577\n",
      "Neighbors: 33, Accuracy: 0.802577\n",
      "Neighbors: 34, Accuracy: 0.802577\n",
      "Neighbors: 35, Accuracy: 0.802359\n",
      "Neighbors: 36, Accuracy: 0.802577\n",
      "Neighbors: 37, Accuracy: 0.802577\n",
      "Neighbors: 38, Accuracy: 0.802577\n",
      "Neighbors: 39, Accuracy: 0.802577\n",
      "Neighbors: 40, Accuracy: 0.802577\n",
      "Neighbors: 41, Accuracy: 0.802577\n",
      "Neighbors: 42, Accuracy: 0.802577\n",
      "Neighbors: 43, Accuracy: 0.802577\n",
      "Neighbors: 44, Accuracy: 0.802577\n",
      "Neighbors: 45, Accuracy: 0.802577\n",
      "Neighbors: 46, Accuracy: 0.802577\n",
      "Neighbors: 47, Accuracy: 0.802577\n",
      "Neighbors: 48, Accuracy: 0.802577\n",
      "Neighbors: 49, Accuracy: 0.802577\n",
      "Neighbors: 50, Accuracy: 0.802577\n"
     ]
    }
   ],
   "source": [
    "results = []\n",
    "i = 1\n",
    "\n",
    "while i <= 50:\n",
    "    model = KNeighborsClassifier(n_neighbors=i)\n",
    "    model.fit(train[features], train['high_quality'])\n",
    "    prediction = model.predict(test[features])\n",
    "    accuracy = np.where(prediction==test['high_quality'], 1, 0).sum() / float(len(test))\n",
    "    print \"Neighbors: %d, Accuracy: %3f\" % (i, accuracy)\n",
    "    i += 1\n",
    "    results.append([i, accuracy])"
   ]
  },
  {
   "cell_type": "code",
   "execution_count": 4,
   "metadata": {
    "collapsed": false
   },
   "outputs": [
    {
     "data": {
      "image/png": "[encoded data removed]",
      "text/plain": [
       "<matplotlib.figure.Figure at 0x10dab0490>"
      ]
     },
     "metadata": {},
     "output_type": "display_data"
    }
   ],
   "source": [
    "#optimal K is 26\n",
    "results = pd.DataFrame(results, columns=[\"i\", \"accuracy\"])\n",
    "\n",
    "plt.plot(results.i, results.accuracy, color='r')\n",
    "plt.title(\"Accuracy with Increasing K\")\n",
    "plt.show()"
   ]
  },
  {
   "cell_type": "code",
   "execution_count": 5,
   "metadata": {
    "collapsed": false
   },
   "outputs": [
    {
     "data": {
      "text/plain": [
       "array([ 0.,  1.])"
      ]
     },
     "execution_count": 5,
     "metadata": {},
     "output_type": "execute_result"
    }
   ],
   "source": [
    "df['high_quality'].unique()"
   ]
  },
  {
   "cell_type": "code",
   "execution_count": 9,
   "metadata": {
    "collapsed": false
   },
   "outputs": [
    {
     "name": "stdout",
     "output_type": "stream",
     "text": [
      "   fixed_acidity  volatile_acidity  citric_acid  residual_sugar  chlorides  \\\n",
      "0            7.4              0.70          0.0             1.9      0.076   \n",
      "1            7.8              0.88          0.0             2.6      0.098   \n",
      "\n",
      "   free_sulfur_dioxide  total_sulfur_dioxide  density    pH  sulphates  \\\n",
      "0                 11.0                  34.0   0.9978  3.51       0.56   \n",
      "1                 25.0                  67.0   0.9968  3.20       0.68   \n",
      "\n",
      "   alcohol  quality color  is_red  high_quality  \n",
      "0      9.4        5   red     1.0           0.0  \n",
      "1      9.8        5   red     1.0           0.0  \n",
      "(6497, 15)\n"
     ]
    }
   ],
   "source": [
    "print df.head(2)\n",
    "print df.shape"
   ]
  },
  {
   "cell_type": "code",
   "execution_count": 8,
   "metadata": {
    "collapsed": false
   },
   "outputs": [
    {
     "data": {
      "text/plain": [
       "0    0.0\n",
       "1    0.0\n",
       "2    0.0\n",
       "Name: high_quality, dtype: float64"
      ]
     },
     "execution_count": 8,
     "metadata": {},
     "output_type": "execute_result"
    }
   ],
   "source": [
    "y = df['high_quality']\n",
    "y.head(3)"
   ]
  },
  {
   "cell_type": "code",
   "execution_count": 20,
   "metadata": {
    "collapsed": false
   },
   "outputs": [
    {
     "data": {
      "text/html": [
       "<div>\n",
       "<table border=\"1\" class=\"dataframe\">\n",
       "  <thead>\n",
       "    <tr style=\"text-align: right;\">\n",
       "      <th></th>\n",
       "      <th>fixed_acidity</th>\n",
       "      <th>volatile_acidity</th>\n",
       "      <th>citric_acid</th>\n",
       "      <th>residual_sugar</th>\n",
       "      <th>chlorides</th>\n",
       "      <th>free_sulfur_dioxide</th>\n",
       "      <th>total_sulfur_dioxide</th>\n",
       "      <th>density</th>\n",
       "      <th>pH</th>\n",
       "      <th>sulphates</th>\n",
       "      <th>alcohol</th>\n",
       "      <th>quality</th>\n",
       "    </tr>\n",
       "  </thead>\n",
       "  <tbody>\n",
       "    <tr>\n",
       "      <th>0</th>\n",
       "      <td>7.4</td>\n",
       "      <td>0.70</td>\n",
       "      <td>0.00</td>\n",
       "      <td>1.9</td>\n",
       "      <td>0.076</td>\n",
       "      <td>11.0</td>\n",
       "      <td>34.0</td>\n",
       "      <td>0.9978</td>\n",
       "      <td>3.51</td>\n",
       "      <td>0.56</td>\n",
       "      <td>9.4</td>\n",
       "      <td>5</td>\n",
       "    </tr>\n",
       "    <tr>\n",
       "      <th>1</th>\n",
       "      <td>7.8</td>\n",
       "      <td>0.88</td>\n",
       "      <td>0.00</td>\n",
       "      <td>2.6</td>\n",
       "      <td>0.098</td>\n",
       "      <td>25.0</td>\n",
       "      <td>67.0</td>\n",
       "      <td>0.9968</td>\n",
       "      <td>3.20</td>\n",
       "      <td>0.68</td>\n",
       "      <td>9.8</td>\n",
       "      <td>5</td>\n",
       "    </tr>\n",
       "    <tr>\n",
       "      <th>2</th>\n",
       "      <td>7.8</td>\n",
       "      <td>0.76</td>\n",
       "      <td>0.04</td>\n",
       "      <td>2.3</td>\n",
       "      <td>0.092</td>\n",
       "      <td>15.0</td>\n",
       "      <td>54.0</td>\n",
       "      <td>0.9970</td>\n",
       "      <td>3.26</td>\n",
       "      <td>0.65</td>\n",
       "      <td>9.8</td>\n",
       "      <td>5</td>\n",
       "    </tr>\n",
       "  </tbody>\n",
       "</table>\n",
       "</div>"
      ],
      "text/plain": [
       "   fixed_acidity  volatile_acidity  citric_acid  residual_sugar  chlorides  \\\n",
       "0            7.4              0.70         0.00             1.9      0.076   \n",
       "1            7.8              0.88         0.00             2.6      0.098   \n",
       "2            7.8              0.76         0.04             2.3      0.092   \n",
       "\n",
       "   free_sulfur_dioxide  total_sulfur_dioxide  density    pH  sulphates  \\\n",
       "0                 11.0                  34.0   0.9978  3.51       0.56   \n",
       "1                 25.0                  67.0   0.9968  3.20       0.68   \n",
       "2                 15.0                  54.0   0.9970  3.26       0.65   \n",
       "\n",
       "   alcohol  quality  \n",
       "0      9.4        5  \n",
       "1      9.8        5  \n",
       "2      9.8        5  "
      ]
     },
     "execution_count": 20,
     "metadata": {},
     "output_type": "execute_result"
    }
   ],
   "source": [
    "X = df.ix[:, 0:12]\n",
    "X.head(3)"
   ]
  },
  {
   "cell_type": "code",
   "execution_count": 26,
   "metadata": {
    "collapsed": false
   },
   "outputs": [
    {
     "data": {
      "text/plain": [
       "fixed_acidity           float64\n",
       "volatile_acidity        float64\n",
       "citric_acid             float64\n",
       "residual_sugar          float64\n",
       "chlorides               float64\n",
       "free_sulfur_dioxide     float64\n",
       "total_sulfur_dioxide    float64\n",
       "density                 float64\n",
       "pH                      float64\n",
       "sulphates               float64\n",
       "alcohol                 float64\n",
       "quality                   int64\n",
       "intercept               float64\n",
       "dtype: object"
      ]
     },
     "execution_count": 26,
     "metadata": {},
     "output_type": "execute_result"
    }
   ],
   "source": [
    "X.dtypes"
   ]
  },
  {
   "cell_type": "code",
   "execution_count": 29,
   "metadata": {
    "collapsed": false
   },
   "outputs": [],
   "source": [
    "from sklearn.linear_model import LogisticRegression"
   ]
  },
  {
   "cell_type": "code",
   "execution_count": 30,
   "metadata": {
    "collapsed": false
   },
   "outputs": [
    {
     "data": {
      "text/plain": [
       "LogisticRegression(C=1.0, class_weight=None, dual=False, fit_intercept=True,\n",
       "          intercept_scaling=1, max_iter=100, multi_class='ovr', n_jobs=1,\n",
       "          penalty='l2', random_state=None, solver='liblinear', tol=0.0001,\n",
       "          verbose=0, warm_start=False)"
      ]
     },
     "execution_count": 30,
     "metadata": {},
     "output_type": "execute_result"
    }
   ],
   "source": [
    "logreg = LogisticRegression()\n",
    "logreg.fit(X, y)"
   ]
  },
  {
   "cell_type": "code",
   "execution_count": 32,
   "metadata": {
    "collapsed": false
   },
   "outputs": [
    {
     "name": "stdout",
     "output_type": "stream",
     "text": [
      "[[ -8.92959812e-01  -1.27318957e-01  -1.15324386e-01  -1.25374857e-01\n",
      "   -8.41487994e-01  -3.74579358e-03  -1.71422947e-02  -5.73834050e+00\n",
      "   -8.45330756e+00   1.29220424e-01  -6.90010998e-01   9.34018597e+00\n",
      "   -5.80407677e+00]]\n",
      "[-5.80407677]\n"
     ]
    }
   ],
   "source": [
    "print logreg.coef_\n",
    "print logreg.intercept_"
   ]
  },
  {
   "cell_type": "code",
   "execution_count": 35,
   "metadata": {
    "collapsed": true
   },
   "outputs": [],
   "source": [
    "X_new = np.random.randn(100, 13)"
   ]
  },
  {
   "cell_type": "code",
   "execution_count": 40,
   "metadata": {
    "collapsed": false
   },
   "outputs": [
    {
     "data": {
      "text/plain": [
       "array([ 0.,  0.,  0.,  0.,  0.,  1.,  0.,  1.,  0.,  0.,  1.,  0.,  1.,\n",
       "        0.,  0.,  0.,  0.,  0.,  1.,  1.,  0.,  0.,  0.,  0.,  1.,  1.,\n",
       "        0.,  0.,  1.,  1.,  0.,  1.,  0.,  1.,  1.,  0.,  0.,  1.,  0.,\n",
       "        1.,  1.,  1.,  1.,  0.,  1.,  0.,  0.,  0.,  0.,  1.,  1.,  0.,\n",
       "        1.,  0.,  0.,  1.,  0.,  0.,  0.,  0.,  0.,  1.,  0.,  1.,  0.,\n",
       "        0.,  0.,  0.,  1.,  0.,  0.,  1.,  1.,  0.,  0.,  0.,  0.,  0.,\n",
       "        0.,  0.,  0.,  0.,  0.,  1.,  0.,  0.,  0.,  0.,  0.,  0.,  0.,\n",
       "        0.,  1.,  0.,  1.,  0.,  0.,  1.,  0.,  1.])"
      ]
     },
     "execution_count": 40,
     "metadata": {},
     "output_type": "execute_result"
    }
   ],
   "source": [
    "# predict class:\n",
    "y_pred = logreg.predict(X_new)\n",
    "y_pred"
   ]
  },
  {
   "cell_type": "code",
   "execution_count": 39,
   "metadata": {
    "collapsed": false
   },
   "outputs": [
    {
     "data": {
      "text/plain": [
       "array([[  9.99997706e-01,   2.29433217e-06],\n",
       "       [  9.99911954e-01,   8.80464440e-05],\n",
       "       [  9.98871013e-01,   1.12898678e-03],\n",
       "       [  1.00000000e+00,   1.82586768e-12],\n",
       "       [  1.00000000e+00,   4.11610522e-10],\n",
       "       [  7.54951657e-14,   1.00000000e+00],\n",
       "       [  9.99932216e-01,   6.77837331e-05],\n",
       "       [  2.40699563e-01,   7.59300437e-01],\n",
       "       [  9.99755014e-01,   2.44985550e-04],\n",
       "       [  6.87809621e-01,   3.12190379e-01],\n",
       "       [  3.50130766e-01,   6.49869234e-01],\n",
       "       [  9.99999956e-01,   4.37339687e-08],\n",
       "       [  1.57800723e-06,   9.99998422e-01],\n",
       "       [  9.99561626e-01,   4.38373775e-04],\n",
       "       [  9.99996212e-01,   3.78801386e-06],\n",
       "       [  6.63683405e-01,   3.36316595e-01],\n",
       "       [  1.00000000e+00,   4.11929208e-12],\n",
       "       [  9.98363980e-01,   1.63601976e-03],\n",
       "       [  4.11335240e-01,   5.88664760e-01],\n",
       "       [  9.93608724e-04,   9.99006391e-01],\n",
       "       [  9.99997297e-01,   2.70329753e-06],\n",
       "       [  8.23242942e-01,   1.76757058e-01],\n",
       "       [  1.00000000e+00,   9.16149656e-11],\n",
       "       [  9.99999987e-01,   1.29619383e-08],\n",
       "       [  2.98927185e-02,   9.70107282e-01],\n",
       "       [  1.08823128e-04,   9.99891177e-01],\n",
       "       [  7.98568439e-01,   2.01431561e-01],\n",
       "       [  9.99999994e-01,   5.67580641e-09],\n",
       "       [  1.80564204e-07,   9.99999819e-01],\n",
       "       [  1.78418878e-03,   9.98215811e-01],\n",
       "       [  9.99999994e-01,   5.50487328e-09],\n",
       "       [  1.10400578e-12,   1.00000000e+00],\n",
       "       [  9.99999996e-01,   3.53953086e-09],\n",
       "       [  1.68283665e-01,   8.31716335e-01],\n",
       "       [  1.04623750e-01,   8.95376250e-01],\n",
       "       [  9.99999935e-01,   6.50055959e-08],\n",
       "       [  9.99993101e-01,   6.89876409e-06],\n",
       "       [  1.24522385e-03,   9.98754776e-01],\n",
       "       [  9.56501343e-01,   4.34986568e-02],\n",
       "       [  4.00035652e-04,   9.99599964e-01],\n",
       "       [  1.53325018e-01,   8.46674982e-01],\n",
       "       [  3.56588483e-06,   9.99996434e-01],\n",
       "       [  2.56950005e-01,   7.43049995e-01],\n",
       "       [  6.77641084e-01,   3.22358916e-01],\n",
       "       [  2.54602993e-06,   9.99997454e-01],\n",
       "       [  8.70097138e-01,   1.29902862e-01],\n",
       "       [  9.99982066e-01,   1.79340848e-05],\n",
       "       [  9.96238724e-01,   3.76127556e-03],\n",
       "       [  9.90182478e-01,   9.81752204e-03],\n",
       "       [  3.63107291e-08,   9.99999964e-01],\n",
       "       [  1.42235657e-08,   9.99999986e-01],\n",
       "       [  9.99999982e-01,   1.78380191e-08],\n",
       "       [  5.01520557e-03,   9.94984794e-01],\n",
       "       [  9.75463128e-01,   2.45368722e-02],\n",
       "       [  1.00000000e+00,   1.95611592e-10],\n",
       "       [  2.53952593e-05,   9.99974605e-01],\n",
       "       [  9.99995467e-01,   4.53264482e-06],\n",
       "       [  9.99359581e-01,   6.40419107e-04],\n",
       "       [  9.99963780e-01,   3.62202431e-05],\n",
       "       [  9.99438097e-01,   5.61902686e-04],\n",
       "       [  1.00000000e+00,   1.08750304e-11],\n",
       "       [  9.42620533e-08,   9.99999906e-01],\n",
       "       [  9.99920378e-01,   7.96223907e-05],\n",
       "       [  7.03730353e-08,   9.99999930e-01],\n",
       "       [  9.99991746e-01,   8.25409172e-06],\n",
       "       [  9.82440241e-01,   1.75597594e-02],\n",
       "       [  9.99999749e-01,   2.50664000e-07],\n",
       "       [  9.87840329e-01,   1.21596713e-02],\n",
       "       [  8.77249429e-02,   9.12275057e-01],\n",
       "       [  9.99982460e-01,   1.75398992e-05],\n",
       "       [  1.00000000e+00,   8.30129765e-14],\n",
       "       [  3.81113469e-01,   6.18886531e-01],\n",
       "       [  5.67336689e-07,   9.99999433e-01],\n",
       "       [  6.60686205e-01,   3.39313795e-01],\n",
       "       [  9.99999276e-01,   7.23994491e-07],\n",
       "       [  9.99982949e-01,   1.70506493e-05],\n",
       "       [  9.54051729e-01,   4.59482715e-02],\n",
       "       [  9.99999615e-01,   3.85260556e-07],\n",
       "       [  9.99999999e-01,   1.36153102e-09],\n",
       "       [  1.00000000e+00,   5.06048254e-13],\n",
       "       [  9.76783054e-01,   2.32169456e-02],\n",
       "       [  9.99799641e-01,   2.00358927e-04],\n",
       "       [  9.99999904e-01,   9.64107975e-08],\n",
       "       [  2.11059029e-01,   7.88940971e-01],\n",
       "       [  1.00000000e+00,   3.81524181e-18],\n",
       "       [  1.00000000e+00,   1.24894974e-13],\n",
       "       [  7.92903188e-01,   2.07096812e-01],\n",
       "       [  9.17533324e-01,   8.24666757e-02],\n",
       "       [  9.93073317e-01,   6.92668341e-03],\n",
       "       [  9.99951599e-01,   4.84010616e-05],\n",
       "       [  9.99757280e-01,   2.42720318e-04],\n",
       "       [  1.00000000e+00,   5.25287318e-12],\n",
       "       [  2.95384136e-03,   9.97046159e-01],\n",
       "       [  1.00000000e+00,   8.48716613e-12],\n",
       "       [  7.38527001e-02,   9.26147300e-01],\n",
       "       [  9.99999618e-01,   3.81554301e-07],\n",
       "       [  9.44179472e-01,   5.58205283e-02],\n",
       "       [  3.79183728e-02,   9.62081627e-01],\n",
       "       [  9.99999979e-01,   2.08353220e-08],\n",
       "       [  8.25288204e-09,   9.99999992e-01]])"
      ]
     },
     "execution_count": 39,
     "metadata": {},
     "output_type": "execute_result"
    }
   ],
   "source": [
    "# predicted probability:\n",
    "y_pp = logreg.predict_proba(X_new)\n",
    "y_pp"
   ]
  },
  {
   "cell_type": "code",
   "execution_count": null,
   "metadata": {
    "collapsed": true
   },
   "outputs": [],
   "source": []
  }
 ],
 "metadata": {
  "kernelspec": {
   "display_name": "Python 2",
   "language": "python",
   "name": "python2"
  },
  "language_info": {
   "codemirror_mode": {
    "name": "ipython",
    "version": 2
   },
   "file_extension": ".py",
   "mimetype": "text/x-python",
   "name": "python",
   "nbconvert_exporter": "python",
   "pygments_lexer": "ipython2",
   "version": "2.7.11"
  }
 },
 "nbformat": 4,
 "nbformat_minor": 0
}
